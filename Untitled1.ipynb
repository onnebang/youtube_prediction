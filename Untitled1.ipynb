{
 "cells": [
  {
   "cell_type": "code",
   "execution_count": null,
   "id": "a67449b3",
   "metadata": {},
   "outputs": [],
   "source": [
    "# selenium을 사용하기 위한 API Import 부분\n",
    "from selenium import webdriver\n",
    "from selenium.webdriver.support.ui import Select\n",
    "import os ,re\n",
    "import time\n",
    "import csv\n",
    "import pandas as pd"
   ]
  },
  {
   "cell_type": "code",
   "execution_count": null,
   "id": "c9426bdc",
   "metadata": {},
   "outputs": [],
   "source": [
    "#Chrome webdriver를 띄워놓아야 한다.\n",
    "driver = webdriver.Chrome()\n",
    "#Crawling을 위한 URL을 할당한다.\n",
    "URL = \"https://www.youtube.com/feed/explore\"\n",
    "urlData =[]\n",
    "driver.get(URL)\n",
    "table = driver.find_element_by_xpath(\"/html/body/ytd-app/div/ytd-page-manager/ytd-browse[2]/ytd-two-column-browse-results-renderer/div[1]/ytd-section-list-renderer/div[2]/ytd-item-section-renderer[2]/div[3]/ytd-shelf-renderer/div[1]/div[2]/ytd-expanded-shelf-contents-renderer/div\");\n",
    "for tr in table.find_elements_by_tag_name(\"ytd-video-renderer\"):\n",
    "    td = tr.find_elements_by_tag_name(\"ytd-thumbnail\")\n",
    "    rowData = []\n",
    "    rowData = [td[1].text]\n",
    "    print (rowData)\n",
    "    userData.append(rowData)"
   ]
  },
  {
   "cell_type": "code",
   "execution_count": null,
   "id": "4191a49f",
   "metadata": {},
   "outputs": [],
   "source": [
    "#Chrome webdriver를 띄워놓아야 한다.\n",
    "driver = webdriver.Chrome()\n",
    "#Crawling을 위한 URL을 할당한다.\n",
    "URL = \"https://www.nba.com/stats/players/traditional/?PerMode=Totals&sort=W&dir=-1&Season=2017-18&SeasonType=Regular%20Season\"\n",
    "userData =[]\n",
    "driver.get(URL)\n",
    "select = Select(driver.find_element_by_xpath('/html/body/main/div/div/div[2]/div/div/nba-stat-table/div[1]/div/div/select'))\n",
    "select.select_by_visible_text('All')\n",
    "table = driver.find_element_by_xpath(\"/html/body/main/div/div/div[2]/div/div/nba-stat-table/div[2]/div[1]/table/tbody\");\n",
    "for tr in table.find_elements_by_tag_name(\"tr\"):\n",
    "    td = tr.find_elements_by_tag_name(\"td\")\n",
    "    rowData = []\n",
    "    rowData = [td[1].text, td[2].text, td[3].text, td[4].text, td[5].text, td[6].text, td[7].text, td[8].text, td[9].text, td[10].text,td[11].text, td[12].text, td[13].text, td[14].text, td[15].text, td[16].text,td[17].text, td[18].text, td[19].text, td[20].text, td[21].text, td[22].text, td[23].text, td[24].text, td[25].text, td[26].text, td[27].text,td[28].text, td[29].text]\n",
    "    print (rowData)\n",
    "    userData.append(rowData)"
   ]
  }
 ],
 "metadata": {
  "kernelspec": {
   "display_name": "Python 3",
   "language": "python",
   "name": "python3"
  },
  "language_info": {
   "codemirror_mode": {
    "name": "ipython",
    "version": 3
   },
   "file_extension": ".py",
   "mimetype": "text/x-python",
   "name": "python",
   "nbconvert_exporter": "python",
   "pygments_lexer": "ipython3",
   "version": "3.8.8"
  }
 },
 "nbformat": 4,
 "nbformat_minor": 5
}
